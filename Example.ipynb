{
 "cells": [
  {
   "cell_type": "markdown",
   "metadata": {},
   "source": [
    "Where to find your access token :https://blogs.dropbox.com/developers/2014/05/generate-an-access-token-for-your-own-account/"
   ]
  },
  {
   "cell_type": "code",
   "execution_count": 1,
   "metadata": {},
   "outputs": [],
   "source": [
    "import dropboxdrivefs as dbx\n",
    "import logging\n",
    "import os\n",
    "\n",
    "logging.basicConfig(format=\"%(levelname)s:%(message)s\", level=logging.INFO)"
   ]
  },
  {
   "cell_type": "code",
   "execution_count": 2,
   "metadata": {},
   "outputs": [],
   "source": [
    "token = \"****\"\n",
    "fs = dbx.DropboxDriveFileSystem(token=token)"
   ]
  },
  {
   "cell_type": "markdown",
   "metadata": {},
   "source": [
    "## Create a folder"
   ]
  },
  {
   "cell_type": "code",
   "execution_count": 3,
   "metadata": {},
   "outputs": [
    {
     "name": "stderr",
     "output_type": "stream",
     "text": [
      "INFO:Request to files/create_folder_v2\n",
      "INFO:The directory/Data/test_dropbox has  been created.\n"
     ]
    }
   ],
   "source": [
    "fs.mkdir(\"/Data/test_dropbox\")"
   ]
  },
  {
   "cell_type": "code",
   "execution_count": 4,
   "metadata": {},
   "outputs": [
    {
     "name": "stderr",
     "output_type": "stream",
     "text": [
      "INFO:Request to files/get_metadata\n"
     ]
    },
    {
     "data": {
      "text/plain": [
       "{'id': 'id:pgKT2sXX3sMAAAAAAAAJQg',\n",
       " 'shared_folder_id': None,\n",
       " 'sharing_info': None,\n",
       " 'property_groups': None,\n",
       " 'name': '/Data/test_dropbox',\n",
       " 'size': None,\n",
       " 'type': 'directory'}"
      ]
     },
     "execution_count": 4,
     "metadata": {},
     "output_type": "execute_result"
    }
   ],
   "source": [
    "fs.info(\"/Data/test_dropbox\")"
   ]
  },
  {
   "cell_type": "markdown",
   "metadata": {},
   "source": [
    "## Upload"
   ]
  },
  {
   "cell_type": "code",
   "execution_count": 5,
   "metadata": {},
   "outputs": [
    {
     "name": "stderr",
     "output_type": "stream",
     "text": [
      "INFO:Request to files/upload_session/start\n",
      "INFO:Request to files/upload_session/finish\n"
     ]
    }
   ],
   "source": [
    "# Upload a file\n",
    "\n",
    "fs.put_file(\"example_file/test1.txt\", \"/Data/test_dropbox/text1.txt\")"
   ]
  },
  {
   "cell_type": "code",
   "execution_count": 6,
   "metadata": {},
   "outputs": [
    {
     "name": "stderr",
     "output_type": "stream",
     "text": [
      "INFO:Request to files/upload_session/start\n",
      "INFO:Request to files/upload_session/finish\n",
      "INFO:Request to files/upload_session/start\n",
      "INFO:Request to files/upload_session/finish\n"
     ]
    }
   ],
   "source": [
    "# Upload a folder with two files \n",
    "\n",
    "fs.upload(\"example_file/test_db\", \"/Data/test_dropbox/\", recursive=True)"
   ]
  },
  {
   "cell_type": "markdown",
   "metadata": {},
   "source": [
    "## Download a file"
   ]
  },
  {
   "cell_type": "code",
   "execution_count": 7,
   "metadata": {},
   "outputs": [
    {
     "name": "stderr",
     "output_type": "stream",
     "text": [
      "INFO:Request to files/get_metadata\n",
      "INFO:Request to files/get_metadata\n",
      "INFO:Request to files/get_temporary_link\n",
      "INFO:Request to files/get_metadata\n"
     ]
    }
   ],
   "source": [
    "fs.download(\"/Data/test_dropbox/text1.txt\", \"example_file/test.txt\")"
   ]
  },
  {
   "cell_type": "markdown",
   "metadata": {},
   "source": [
    "## Write in a file"
   ]
  },
  {
   "cell_type": "code",
   "execution_count": 8,
   "metadata": {},
   "outputs": [
    {
     "name": "stderr",
     "output_type": "stream",
     "text": [
      "INFO:Request to files/upload_session/start\n",
      "INFO:Request to files/upload_session/finish\n"
     ]
    }
   ],
   "source": [
    "with fs.open(\"/Data/test_dropbox/test.txt\", mode='w') as f:\n",
    "    f.write('Hello')"
   ]
  },
  {
   "cell_type": "markdown",
   "metadata": {},
   "source": [
    "Be careful, the mode \"append\" does not append the existing file. It creates a new file with the text wrotten by adding (2) in the path name. If this new file is identical with the existing file, nothing is uploaded. "
   ]
  },
  {
   "cell_type": "code",
   "execution_count": 9,
   "metadata": {},
   "outputs": [
    {
     "name": "stderr",
     "output_type": "stream",
     "text": [
      "INFO:Request to files/upload_session/start\n",
      "INFO:Request to files/upload_session/finish\n"
     ]
    }
   ],
   "source": [
    "with fs.open(\"/Data/test_dropbox/test.txt\", mode='a') as f:\n",
    "    f.write('world')"
   ]
  },
  {
   "cell_type": "markdown",
   "metadata": {},
   "source": [
    "## Read a file "
   ]
  },
  {
   "cell_type": "code",
   "execution_count": 10,
   "metadata": {},
   "outputs": [
    {
     "name": "stderr",
     "output_type": "stream",
     "text": [
      "INFO:Request to files/get_temporary_link\n",
      "INFO:Request to files/get_metadata\n"
     ]
    },
    {
     "name": "stdout",
     "output_type": "stream",
     "text": [
      "Hello\n"
     ]
    }
   ],
   "source": [
    "with fs.open(\"/Data/test_dropbox/test.txt\", mode=\"r\") as f:\n",
    "    print(f.read())"
   ]
  },
  {
   "cell_type": "code",
   "execution_count": 11,
   "metadata": {},
   "outputs": [
    {
     "name": "stderr",
     "output_type": "stream",
     "text": [
      "INFO:Request to files/list_folder\n",
      "INFO:Request to files/list_folder\n"
     ]
    },
    {
     "name": "stdout",
     "output_type": "stream",
     "text": [
      "['/Data/test_dropbox/test (1).txt', '/Data/test_dropbox/test.txt', '/Data/test_dropbox/test_db/test1.txt', '/Data/test_dropbox/test_db/test2.txt', '/Data/test_dropbox/text1.txt']\n"
     ]
    }
   ],
   "source": [
    "items = fs.find(\"/Data/test_dropbox\")\n",
    "print(items)"
   ]
  },
  {
   "cell_type": "code",
   "execution_count": 12,
   "metadata": {},
   "outputs": [
    {
     "name": "stderr",
     "output_type": "stream",
     "text": [
      "INFO:Request to files/get_metadata\n",
      "INFO:Request to files/get_metadata\n",
      "INFO:Request to files/list_folder\n",
      "INFO:Request to files/list_folder\n"
     ]
    },
    {
     "name": "stdout",
     "output_type": "stream",
     "text": [
      "['/Data/test_dropbox', '/Data/test_dropbox/test (1).txt', '/Data/test_dropbox/test.txt', '/Data/test_dropbox/test_db', '/Data/test_dropbox/test_db/test1.txt', '/Data/test_dropbox/test_db/test2.txt', '/Data/test_dropbox/text1.txt']\n"
     ]
    }
   ],
   "source": [
    "items = fs.find(\"/Data/test_dropbox\", withdirs=True)\n",
    "print(items)"
   ]
  },
  {
   "cell_type": "code",
   "execution_count": 13,
   "metadata": {},
   "outputs": [
    {
     "name": "stderr",
     "output_type": "stream",
     "text": [
      "INFO:Request to files/list_folder\n",
      "INFO:Request to files/list_folder\n"
     ]
    },
    {
     "name": "stdout",
     "output_type": "stream",
     "text": [
      "[('/Data/test_dropbox', ['test_db'], ['text1.txt', 'test.txt', 'test (1).txt']), ('/Data/test_dropbox/test_db', [], ['test1.txt', 'test2.txt'])]\n"
     ]
    }
   ],
   "source": [
    "items = fs.walk(\"/Data/test_dropbox\")\n",
    "print(list(items))"
   ]
  },
  {
   "cell_type": "code",
   "execution_count": 14,
   "metadata": {},
   "outputs": [
    {
     "name": "stderr",
     "output_type": "stream",
     "text": [
      "INFO:Request to files/list_folder\n"
     ]
    },
    {
     "name": "stdout",
     "output_type": "stream",
     "text": [
      "{'id': 'id:pgKT2sXX3sMAAAAAAAAJRQ', 'shared_folder_id': None, 'sharing_info': None, 'property_groups': None, 'name': '/Data/test_dropbox/test_db', 'size': None, 'type': 'directory'}\n",
      "{'id': 'id:pgKT2sXX3sMAAAAAAAAJQw', 'client_modified': datetime.datetime(2024, 1, 18, 19, 56, 25), 'server_modified': datetime.datetime(2024, 1, 18, 19, 56, 25), 'rev': '60f3dc22daeef0f9d7ed4', 'size': 5, 'media_info': None, 'symlink_info': None, 'sharing_info': None, 'is_downloadable': True, 'export_info': None, 'property_groups': None, 'has_explicit_shared_members': None, 'content_hash': '9595c9df90075148eb06860365df33584b75bff782a510c6cd4883a419833d50', 'file_lock_info': None, 'name': '/Data/test_dropbox/text1.txt', 'type': 'file'}\n",
      "{'id': 'id:pgKT2sXX3sMAAAAAAAAJRw', 'client_modified': datetime.datetime(2024, 1, 18, 19, 56, 29), 'server_modified': datetime.datetime(2024, 1, 18, 19, 56, 30), 'rev': '60f3dc2770bfd0f9d7ed4', 'size': 5, 'media_info': None, 'symlink_info': None, 'sharing_info': None, 'is_downloadable': True, 'export_info': None, 'property_groups': None, 'has_explicit_shared_members': None, 'content_hash': '70bc18bef5ae66b72d1995f8db90a583a60d77b4066e4653f1cead613025861c', 'file_lock_info': None, 'name': '/Data/test_dropbox/test.txt', 'type': 'file'}\n",
      "{'id': 'id:pgKT2sXX3sMAAAAAAAAJSA', 'client_modified': datetime.datetime(2024, 1, 18, 19, 56, 31), 'server_modified': datetime.datetime(2024, 1, 18, 19, 56, 31), 'rev': '60f3dc28b1a6f0f9d7ed4', 'size': 5, 'media_info': None, 'symlink_info': None, 'sharing_info': None, 'is_downloadable': True, 'export_info': None, 'property_groups': None, 'has_explicit_shared_members': None, 'content_hash': '63e5c163c81ee9a3ed99d365ff963ecea340cc455deeac7c4b63ac75b9cf4706', 'file_lock_info': None, 'name': '/Data/test_dropbox/test (1).txt', 'type': 'file'}\n",
      "\n",
      "Available info for folder type:\n",
      "['id', 'shared_folder_id', 'sharing_info', 'property_groups', 'name', 'size', 'type']\n",
      "\n",
      "Available info for file type:\n",
      "['id', 'client_modified', 'server_modified', 'rev', 'size', 'media_info', 'symlink_info', 'sharing_info', 'is_downloadable', 'export_info', 'property_groups', 'has_explicit_shared_members', 'content_hash', 'file_lock_info', 'name', 'type']\n"
     ]
    }
   ],
   "source": [
    "items = fs.ls(\"/Data/test_dropbox\")\n",
    "for item in items:\n",
    "    print(item)\n",
    "\n",
    "print(\"\\nAvailable info for folder type:\")\n",
    "print(list(items[0].keys()))\n",
    "\n",
    "print(\"\\nAvailable info for file type:\")\n",
    "print(list(items[-1].keys()))"
   ]
  },
  {
   "cell_type": "code",
   "execution_count": 15,
   "metadata": {
    "tags": []
   },
   "outputs": [
    {
     "name": "stderr",
     "output_type": "stream",
     "text": [
      "INFO:Request to files/list_folder\n"
     ]
    },
    {
     "name": "stdout",
     "output_type": "stream",
     "text": [
      "/Data/test_dropbox/test_db\n",
      "/Data/test_dropbox/text1.txt\n",
      "/Data/test_dropbox/test.txt\n",
      "/Data/test_dropbox/test (1).txt\n"
     ]
    }
   ],
   "source": [
    "items = fs.ls(\"/Data/test_dropbox\", detail=False)\n",
    "for item in items:\n",
    "    print(item)"
   ]
  },
  {
   "cell_type": "code",
   "execution_count": 16,
   "metadata": {},
   "outputs": [
    {
     "name": "stderr",
     "output_type": "stream",
     "text": [
      "INFO:Request to files/list_folder\n"
     ]
    },
    {
     "name": "stdout",
     "output_type": "stream",
     "text": [
      "/Data/test_dropbox\n",
      "/Data/test_dropbox/test_db\n",
      "/Data/test_dropbox/text1.txt\n",
      "/Data/test_dropbox/test_db/test1.txt\n",
      "/Data/test_dropbox/test_db/test2.txt\n",
      "/Data/test_dropbox/test.txt\n",
      "/Data/test_dropbox/test (1).txt\n"
     ]
    }
   ],
   "source": [
    "items = fs.ls(\"/Data/test_dropbox\", detail=False, recursive=True)\n",
    "for item in items:\n",
    "    print(item)"
   ]
  },
  {
   "cell_type": "markdown",
   "metadata": {},
   "source": [
    "## Read with intake\n",
    "\n",
    "Note that the path used has three ///: The path needs to be dropbox:// + /folder1/folder2 \n",
    "\n",
    "Without it, the dropbox sdk used in background will take as cloud path : /folder2 instead of /folder1/folder2"
   ]
  },
  {
   "cell_type": "code",
   "execution_count": 17,
   "metadata": {
    "tags": []
   },
   "outputs": [],
   "source": [
    "import intake"
   ]
  },
  {
   "cell_type": "code",
   "execution_count": 18,
   "metadata": {},
   "outputs": [],
   "source": [
    "file_intake = intake.open_textfiles(\"dropbox:///Data/test_dropbox/test.txt\",storage_options={\"token\":token})\n"
   ]
  },
  {
   "cell_type": "code",
   "execution_count": 19,
   "metadata": {},
   "outputs": [
    {
     "data": {
      "text/plain": [
       "['Hello']"
      ]
     },
     "execution_count": 19,
     "metadata": {},
     "output_type": "execute_result"
    }
   ],
   "source": [
    "file_intake.read()"
   ]
  },
  {
   "cell_type": "markdown",
   "metadata": {},
   "source": [
    "## Clean up online and in local"
   ]
  },
  {
   "cell_type": "code",
   "execution_count": 20,
   "metadata": {},
   "outputs": [
    {
     "name": "stderr",
     "output_type": "stream",
     "text": [
      "INFO:Request to files/delete_v2\n",
      "INFO:The directory/Data/test_dropbox has been erased.\n"
     ]
    }
   ],
   "source": [
    "fs.rm(\"/Data/test_dropbox\")\n",
    "os.remove(\"example_file/test.txt\")"
   ]
  }
 ],
 "metadata": {
  "kernelspec": {
   "display_name": "Python 3 (ipykernel)",
   "language": "python",
   "name": "python3"
  },
  "language_info": {
   "codemirror_mode": {
    "name": "ipython",
    "version": 3
   },
   "file_extension": ".py",
   "mimetype": "text/x-python",
   "name": "python",
   "nbconvert_exporter": "python",
   "pygments_lexer": "ipython3",
   "version": "3.12.0"
  }
 },
 "nbformat": 4,
 "nbformat_minor": 4
}
